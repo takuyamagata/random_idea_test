{
 "cells": [
  {
   "cell_type": "markdown",
   "metadata": {
    "collapsed": true,
    "pycharm": {
     "name": "#%% md\n"
    }
   },
   "source": [
    "# Adaptive Forgetting test\n",
    "Date: 01-May-2021\n",
    "\n",
    "Description:\n",
    "Directional Adaptive Rate Forgettingのテスト。ターゲットが動いている場合、Bayesian Linear Regressionは、そのSufficient Statistics\n",
    "を計算する際に、古いデータは忘れる必要がある。このプロセスを自動的に行う方法を考えてみる。\n",
    "\n",
    "通常、Precision Matrixは、以下の式で更新される。\n",
    "\n",
    "$\\Lambda_{t|t} = \\Lambda_{t|t-1} + \\beta^{-1} x_t x_t^T$\n",
    "\n",
    "あるいは、Woodbury matrix identityを使って、Covariance Matrixを直接以下の様に更新する。\n",
    "\n",
    "$\\Sigma_{t|t} = \\Sigma_{t|t-1} - \\frac{\\Sigma_{t|t-1} x_t x_t^T \\Sigma_{t|t-1}}{\\beta + x_t^T \\Sigma_{t|t-1} x_t} $\n",
    "\n",
    "通常、ターゲットが不変の場合は、これらがそのまま次のサンプルの予測に用いられる。\n",
    "\n",
    "$\\Lambda_{t+1|t} = \\Lambda_{t|t}$\n",
    "\n",
    "$\\Sigma_{t+1|t} = \\Sigma_{t|t}$\n",
    "\n",
    "ターゲットが変動する場合は、何らかの方法でこれらを更新する必要がある。 ここでは、以下の様な更新方法を試す。\n",
    "\n"
   ]
  },
  {
   "cell_type": "code",
   "execution_count": 7,
   "outputs": [],
   "source": [
    "import numpy as np\n",
    "import pandas as pd\n",
    "import matplotlib.pyplot as plt\n",
    "import matplotlib as mpl\n",
    "plt.style.use('seaborn-darkgrid')\n",
    "mpl.rcParams['figure.dpi']= 300"
   ],
   "metadata": {
    "collapsed": false,
    "pycharm": {
     "name": "#%%\n"
    }
   }
  },
  {
   "cell_type": "code",
   "execution_count": 1,
   "outputs": [
    {
     "ename": "NameError",
     "evalue": "name 'np' is not defined",
     "output_type": "error",
     "traceback": [
      "\u001B[1;31m---------------------------------------------------------------------------\u001B[0m",
      "\u001B[1;31mNameError\u001B[0m                                 Traceback (most recent call last)",
      "\u001B[1;32m<ipython-input-1-0196bf427a73>\u001B[0m in \u001B[0;36m<module>\u001B[1;34m\u001B[0m\n\u001B[0;32m     49\u001B[0m \u001B[0msim_len\u001B[0m \u001B[1;33m=\u001B[0m \u001B[1;36m5000\u001B[0m\u001B[1;31m#\u001B[0m\u001B[1;33m\u001B[0m\u001B[1;33m\u001B[0m\u001B[0m\n\u001B[0;32m     50\u001B[0m \u001B[0mbeta\u001B[0m \u001B[1;33m=\u001B[0m \u001B[1;36m0.1\u001B[0m\u001B[1;33m\u001B[0m\u001B[1;33m\u001B[0m\u001B[0m\n\u001B[1;32m---> 51\u001B[1;33m \u001B[0mX\u001B[0m\u001B[1;33m,\u001B[0m\u001B[0mY\u001B[0m\u001B[1;33m,\u001B[0m \u001B[0minfo\u001B[0m \u001B[1;33m=\u001B[0m \u001B[0mgen_data\u001B[0m\u001B[1;33m(\u001B[0m\u001B[0msim_len\u001B[0m\u001B[1;33m,\u001B[0m \u001B[0mvar\u001B[0m\u001B[1;33m=\u001B[0m\u001B[0mbeta\u001B[0m\u001B[1;33m,\u001B[0m \u001B[0mtype\u001B[0m\u001B[1;33m=\u001B[0m\u001B[0mtype\u001B[0m\u001B[1;33m)\u001B[0m\u001B[1;33m\u001B[0m\u001B[1;33m\u001B[0m\u001B[0m\n\u001B[0m\u001B[0;32m     52\u001B[0m \u001B[1;33m\u001B[0m\u001B[0m\n\u001B[0;32m     53\u001B[0m \u001B[0mdarf\u001B[0m \u001B[1;33m=\u001B[0m \u001B[0mDARF\u001B[0m\u001B[1;33m(\u001B[0m\u001B[1;36m2\u001B[0m\u001B[1;33m,\u001B[0m \u001B[0mbeta\u001B[0m\u001B[1;33m)\u001B[0m\u001B[1;33m\u001B[0m\u001B[1;33m\u001B[0m\u001B[0m\n",
      "\u001B[1;32m<ipython-input-1-0196bf427a73>\u001B[0m in \u001B[0;36mgen_data\u001B[1;34m(len, m, r, var, type)\u001B[0m\n\u001B[0;32m      9\u001B[0m     \u001B[1;33m:\u001B[0m\u001B[1;32mreturn\u001B[0m\u001B[1;33m:\u001B[0m        \u001B[0mx\u001B[0m\u001B[1;33m,\u001B[0m \u001B[0my\u001B[0m \u001B[1;33m(\u001B[0m\u001B[0minput\u001B[0m\u001B[1;33m/\u001B[0m\u001B[0moutput\u001B[0m\u001B[1;33m)\u001B[0m\u001B[1;33m\u001B[0m\u001B[1;33m\u001B[0m\u001B[0m\n\u001B[0;32m     10\u001B[0m     \"\"\"\n\u001B[1;32m---> 11\u001B[1;33m     \u001B[0mt\u001B[0m \u001B[1;33m=\u001B[0m \u001B[0mnp\u001B[0m\u001B[1;33m.\u001B[0m\u001B[0marange\u001B[0m\u001B[1;33m(\u001B[0m\u001B[0mlen\u001B[0m\u001B[1;33m)\u001B[0m\u001B[1;33m\u001B[0m\u001B[1;33m\u001B[0m\u001B[0m\n\u001B[0m\u001B[0;32m     12\u001B[0m     \u001B[1;32mif\u001B[0m \u001B[0mtype\u001B[0m \u001B[1;32mis\u001B[0m \u001B[1;34m'sin'\u001B[0m\u001B[1;33m:\u001B[0m\u001B[1;33m\u001B[0m\u001B[1;33m\u001B[0m\u001B[0m\n\u001B[0;32m     13\u001B[0m         \u001B[0ma\u001B[0m \u001B[1;33m=\u001B[0m \u001B[0mm\u001B[0m\u001B[1;33m[\u001B[0m\u001B[1;36m0\u001B[0m\u001B[1;33m]\u001B[0m \u001B[1;33m+\u001B[0m \u001B[0mr\u001B[0m\u001B[1;33m[\u001B[0m\u001B[1;36m0\u001B[0m\u001B[1;33m]\u001B[0m \u001B[1;33m*\u001B[0m \u001B[0mnp\u001B[0m\u001B[1;33m.\u001B[0m\u001B[0msin\u001B[0m\u001B[1;33m(\u001B[0m\u001B[0mt\u001B[0m \u001B[1;33m*\u001B[0m \u001B[1;36m2\u001B[0m\u001B[1;33m*\u001B[0m\u001B[0mnp\u001B[0m\u001B[1;33m.\u001B[0m\u001B[0mpi\u001B[0m \u001B[1;33m/\u001B[0m \u001B[1;36m100\u001B[0m\u001B[1;33m)\u001B[0m\u001B[1;33m\u001B[0m\u001B[1;33m\u001B[0m\u001B[0m\n",
      "\u001B[1;31mNameError\u001B[0m: name 'np' is not defined"
     ]
    }
   ],
   "source": [
    "def gen_data(len, m=[-1.0, 2.0], r=[0.5, 0.5], var=0.01, type='sin'):\n",
    "    \"\"\"\n",
    "    generate data (simulate target model)\n",
    "    :param len:     length of data\n",
    "    :param m:       mean value\n",
    "    :param r:       range (only used in type=='sin')\n",
    "    :param var:     variance of likelihood noise\n",
    "    :param type:    model type ('sin', 'linear', 'const')\n",
    "    :return:        x, y (input/output)\n",
    "    \"\"\"\n",
    "    t = np.arange(len)\n",
    "    if type is 'sin':\n",
    "        a = m[0] + r[0] * np.sin(t * 2*np.pi / 100)\n",
    "        b = m[1] + r[1] * np.cos(t * 2*np.pi / 100)\n",
    "    elif type is 'linear':\n",
    "        a =        t / 2000\n",
    "        b = m[1] + t / 2000\n",
    "    elif type is 'sin_linear':\n",
    "        a = m[0] + r[0] * np.sin(t * 2 * np.pi / 200) + t / 2000\n",
    "        b = m[1] + r[1] * np.cos(t * 2 * np.pi / 200) + t / 2000\n",
    "    elif type is 'const':\n",
    "        a = m[0] + t * 0.0\n",
    "        b = m[1] + t * 0.0\n",
    "    x = np.random.randn(len) * 10.0\n",
    "    y_no_noise = a * x + b\n",
    "    y = y_no_noise + np.random.randn(len) * np.sqrt(var)\n",
    "    info = {'a': a, 'b': b, 'y_no_noise': y_no_noise}\n",
    "    return x, y, info\n",
    "\n",
    "class DARF:\n",
    "    def __init__(self, x_dim=2, beta=0.1):\n",
    "        self.beta = beta\n",
    "        self.Sigma = np.eye(x_dim) * 10.\n",
    "        self.mu = np.zeros(x_dim)\n",
    "\n",
    "    def fit(self, x, y):\n",
    "        gamma = 1/(self.beta + x[None,:] @ self.Sigma @ x[:,None])\n",
    "        gain = self.Sigma @ x[:,None] * gamma\n",
    "        err = y - np.dot(x, self.mu)\n",
    "        self.mu += gain[:,0] * err\n",
    "        self.Sigma -= gain @ gain.T / gamma\n",
    "        return err\n",
    "\n",
    "    def predict(self, x):\n",
    "        y = np.dot(x, self.mu)\n",
    "        return y\n",
    "\n",
    "type =  'const' #'linear' #'const' #'sin' # 'sin_linear'\n",
    "sim_len = 5000#\n",
    "beta = 0.1\n",
    "X,Y, info = gen_data(sim_len, var=beta, type=type)\n",
    "\n",
    "darf = DARF(2, beta)\n",
    "\n",
    "for n in range(sim_len):\n",
    "    x = X[n]\n",
    "    y = Y[n]\n",
    "    inp = np.ones(2)\n",
    "    inp[0] = x\n",
    "    err = darf.fit(inp,y)\n",
    "    print(err)\n"
   ],
   "metadata": {
    "collapsed": false,
    "pycharm": {
     "name": "#%%\n"
    }
   }
  },
  {
   "cell_type": "code",
   "execution_count": null,
   "outputs": [],
   "source": [
    "fig, ax = plt.subplots(1, sharex=True, figsize=(6.4, 4.5))\n",
    "ax.plot([1,2,3],[1,4,9], marker='o', linestyle='-', color='C2', label='data 1')\n",
    "ax.set_xlabel('x axis label')\n",
    "ax.set_ylabel('y axis label')\n",
    "ax.set_xticks([1,2,3])\n",
    "ax.set_xticklabels(['one', 'two', 'three'])\n",
    "ax.legend()\n",
    "\n",
    "plt.show()\n",
    "fig.savefig('example_plot.eps')"
   ],
   "metadata": {
    "collapsed": false,
    "pycharm": {
     "name": "#%%\n"
    }
   }
  },
  {
   "cell_type": "code",
   "execution_count": null,
   "outputs": [],
   "source": [
    "x = np.array([1,2,3])\n",
    "x[:,None]\n"
   ],
   "metadata": {
    "collapsed": false,
    "pycharm": {
     "name": "#%%\n"
    }
   }
  },
  {
   "cell_type": "code",
   "execution_count": null,
   "outputs": [],
   "source": [],
   "metadata": {
    "collapsed": false,
    "pycharm": {
     "name": "#%%\n"
    }
   }
  }
 ],
 "metadata": {
  "kernelspec": {
   "display_name": "Python 3",
   "language": "python",
   "name": "python3"
  },
  "language_info": {
   "codemirror_mode": {
    "name": "ipython",
    "version": 2
   },
   "file_extension": ".py",
   "mimetype": "text/x-python",
   "name": "python",
   "nbconvert_exporter": "python",
   "pygments_lexer": "ipython2",
   "version": "2.7.6"
  }
 },
 "nbformat": 4,
 "nbformat_minor": 0
}