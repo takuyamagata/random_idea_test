{
    "cells": [
        {
            "cell_type": "code",
            "execution_count": 1,
            "source": [
                "import numpy as np\r\n",
                "import pandas as pd\r\n",
                "import matplotlib.pyplot as plt\r\n",
                "from scipy.stats import norm\r\n",
                "import os\r\n",
                "\r\n",
                "import plotly.graph_objects as go\r\n",
                "from plotly.subplots import make_subplots"
            ],
            "outputs": [],
            "metadata": {}
        },
        {
            "cell_type": "code",
            "execution_count": 2,
            "source": [
                "df = pd.read_csv('df.csv')\r\n",
                "df['bt']=pd.to_datetime(df['bt'])\r\n",
                "df.set_index('bt', inplace=True)"
            ],
            "outputs": [],
            "metadata": {}
        },
        {
            "cell_type": "code",
            "execution_count": 3,
            "source": [
                "def humidity_latent_event_detection(x):\r\n",
                "    \"\"\"\r\n",
                "        Max-sum (Viterbi) algorithm \r\n",
                "    \"\"\"\r\n",
                "    k1 = 0.1   # true value 0.25\r\n",
                "    k2 = 0.5    # true value 0.5\r\n",
                "\r\n",
                "    bg_percentile = 10\r\n",
                "    bg_window_len = 240//3\r\n",
                "\r\n",
                "    # transition probability s1->s2 = T[s1,s2]\r\n",
                "    T = np.array([[0.8, 0.2], \r\n",
                "                  [0.2, 0.8]]) \r\n",
                "\r\n",
                "    N = len(x)-1\r\n",
                "\r\n",
                "    s = np.zeros((N, 2))\r\n",
                "    s_in_x = np.zeros((N, 2))\r\n",
                "    s_sel = np.zeros((N, 2))\r\n",
                "\r\n",
                "    # compute the background humidity level\r\n",
                "    x_bg = np.zeros(N+1)\r\n",
                "    x_bg[0] = x[0]\r\n",
                "    for n in range(N):\r\n",
                "        if n < bg_window_len:\r\n",
                "            idx = np.arange(0,n+1)\r\n",
                "        else:\r\n",
                "            idx = np.arange(n-bg_window_len+1,n+1)\r\n",
                "        x_bg[n+1] = np.percentile(x[idx], bg_percentile)\r\n",
                "\r\n",
                "    # prepare messages from x[n] and x[n+1] \r\n",
                "    for n in range(N):\r\n",
                "        for s_ in [0, 1]:\r\n",
                "            x_ = x[n] + (1-s_)*k1*(x_bg[n] - x[n]) + s_*k2*(100. - x[n])\r\n",
                "            s_in_x[n, s_] = np.log(norm.pdf(x[n+1], loc=x_, scale=5))\r\n",
                "    \r\n",
                "    # message passing to root node (s[0]) with max-sum (Viterbi)\r\n",
                "    s_ = np.zeros(2)\r\n",
                "    s_in_ = np.zeros(2) # message from the future s[n]\r\n",
                "    for n in reversed(range(N)):\r\n",
                "        s_[0] = s_in_[0] + s_in_x[n,0]\r\n",
                "        s_[1] = s_in_[1] + s_in_x[n,1]\r\n",
                "        s_in_[0] = np.max([T[0,0]+s_[0], T[0,1]+s_[1]])\r\n",
                "        s_in_[1] = np.max([T[1,0]+s_[0], T[1,1]+s_[1]])\r\n",
                "        s_sel[n,0] = np.argmax([T[0,0]+s_[0], T[0,1]+s_[1]])\r\n",
                "        s_sel[n,1] = np.argmax([T[1,0]+s_[0], T[1,1]+s_[1]])\r\n",
                "        \r\n",
                "    # decode (trace the selected path)\r\n",
                "    s = np.zeros(N)\r\n",
                "    s[0] = 0\r\n",
                "    for n in range(N-1):\r\n",
                "        s[n+1] = s_sel[n+1,int(s[n])]\r\n",
                "\r\n",
                "    return s"
            ],
            "outputs": [],
            "metadata": {}
        },
        {
            "cell_type": "code",
            "execution_count": 4,
            "source": [
                "x = df['value'].to_numpy()\r\n",
                "s = humidity_latent_event_detection(x)\r\n",
                "df['state'] = np.append(s,0)"
            ],
            "outputs": [],
            "metadata": {}
        },
        {
            "cell_type": "code",
            "execution_count": 5,
            "source": [
                "fig = make_subplots(specs=[[{\"secondary_y\": True}]])\r\n",
                "fig.add_trace(go.Scatter(x=df.index, y=df['value'], name=\"humidity\"),\r\n",
                "              secondary_y=False,\r\n",
                "              )\r\n",
                "fig.add_trace(go.Scatter(x=df.index, y=df['state'], name=\"state\"),\r\n",
                "              secondary_y=True,\r\n",
                "              )\r\n",
                "fig.add_trace(go.Scatter(x=df.index, y=df['event'], name=\"event\"),\r\n",
                "              secondary_y=True,\r\n",
                "              )\r\n",
                "fig.update_xaxes(title=\"date-time\") # X軸タイトルを指定\r\n",
                "fig.update_yaxes(title=\"humidity [%]\",\r\n",
                "                 secondary_y=False) # Y軸タイトルを指定\r\n",
                "fig.update_yaxes(title=\"State\",\r\n",
                "                 secondary_y=True) # Y軸タイトルを指定\r\n",
                "fig.update_xaxes(rangeslider={\"visible\":True}) # X軸に range slider を表示（下図参照）\r\n",
                "fig.update_layout(title=\"Humidity\") # グラフタイトルを設定\r\n",
                "\r\n",
                "fig.write_html(\"hum_state_fig.html\")"
            ],
            "outputs": [],
            "metadata": {}
        },
        {
            "cell_type": "code",
            "execution_count": 6,
            "source": [
                "def measure_duration(x):\r\n",
                "    \"\"\"\r\n",
                "        Measure duration x=1.0 and store the duration at the point of the rising edge\r\n",
                "    \"\"\"\r\n",
                "    duration = np.ones(len(x)) * np.nan\r\n",
                "    d = 0\r\n",
                "    for n in reversed(range(len(x))):\r\n",
                "        if x[n]:\r\n",
                "            d += 1\r\n",
                "        else:\r\n",
                "            if d > 0:\r\n",
                "                duration[n] = d\r\n",
                "                d = 0\r\n",
                "    return duration"
            ],
            "outputs": [],
            "metadata": {}
        },
        {
            "cell_type": "code",
            "execution_count": 7,
            "source": [
                "d = measure_duration(df['state'].to_numpy())\r\n",
                "df['state_duration'] = d"
            ],
            "outputs": [],
            "metadata": {}
        },
        {
            "cell_type": "code",
            "execution_count": 8,
            "source": [
                "fig = go.Figure()\r\n",
                "fig.add_trace(go.Scatter(x=df.index, y=df['state_duration']*3, mode='markers', name=\"state=1.0 duration\"))\r\n",
                "fig.add_trace(go.Scatter(x=df.index, y=df['duration']*3, mode='markers', name=\"event=1.0 duration\"))\r\n",
                "fig.update_xaxes(title=\"date-time\") # X軸タイトルを指定\r\n",
                "fig.update_yaxes(title=\"duration [min.]\") # Y軸タイトルを指定\r\n",
                "fig.update_layout(title=\"Humidity event duration\") # グラフタイトルを設定\r\n",
                "\r\n",
                "fig.write_html('hum_duration_fig.html')"
            ],
            "outputs": [],
            "metadata": {}
        },
        {
            "cell_type": "code",
            "execution_count": null,
            "source": [],
            "outputs": [],
            "metadata": {}
        }
    ],
    "metadata": {
        "orig_nbformat": 4,
        "language_info": {
            "name": "python",
            "version": "3.7.7",
            "mimetype": "text/x-python",
            "codemirror_mode": {
                "name": "ipython",
                "version": 3
            },
            "pygments_lexer": "ipython3",
            "nbconvert_exporter": "python",
            "file_extension": ".py"
        },
        "kernelspec": {
            "name": "python3",
            "display_name": "Python 3.7.7 64-bit ('RLRG': conda)"
        },
        "interpreter": {
            "hash": "81baa000e78c79b3412c9e674a2da2c5d45b9c961abb0827f60ead0f3c697d48"
        }
    },
    "nbformat": 4,
    "nbformat_minor": 2
}